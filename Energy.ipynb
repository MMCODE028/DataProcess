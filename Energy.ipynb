{
 "cells": [
  {
   "cell_type": "code",
   "execution_count": 8,
   "id": "f00d4fdd",
   "metadata": {},
   "outputs": [],
   "source": [
    "import os\n",
    "import numpy as np\n",
    "import pandas as pd\n",
    "import matplotlib.pyplot as plt\n",
    "import seaborn as sns\n",
    "from tqdm import tqdm\n",
    "import plotly.express as px\n",
    "# text API's\n",
    "import re\n",
    "import spacy\n",
    "import unicodedata\n",
    "from nltk import TweetTokenizer\n",
    "from spacy.lang.es import Spanish\n",
    "from spacy.lang.en import English\n",
    "import nltk\n",
    "from nltk.corpus import stopwords\n",
    "from imblearn.over_sampling import SMOTE\n",
    "from collections import Counter\n",
    "from sklearn.preprocessing import LabelEncoder \n",
    "from sklearn import preprocessing\n",
    "from sklearn.metrics import plot_confusion_matrix\n",
    "from sklearn.linear_model import LogisticRegression\n",
    "from sklearn.metrics import mean_squared_error, r2_score\n",
    "from sklearn.feature_extraction.text import CountVectorizer, TfidfVectorizer\n",
    "from sklearn.model_selection import train_test_split\n",
    "from sklearn.metrics import classification_report, confusion_matrix\n",
    "from sklearn.metrics import accuracy_score, recall_score, f1_score, precision_score"
   ]
  },
  {
   "cell_type": "code",
   "execution_count": 9,
   "id": "13b55727",
   "metadata": {},
   "outputs": [
    {
     "data": {
      "text/html": [
       "<div>\n",
       "<style scoped>\n",
       "    .dataframe tbody tr th:only-of-type {\n",
       "        vertical-align: middle;\n",
       "    }\n",
       "\n",
       "    .dataframe tbody tr th {\n",
       "        vertical-align: top;\n",
       "    }\n",
       "\n",
       "    .dataframe thead th {\n",
       "        text-align: right;\n",
       "    }\n",
       "</style>\n",
       "<table border=\"1\" class=\"dataframe\">\n",
       "  <thead>\n",
       "    <tr style=\"text-align: right;\">\n",
       "      <th></th>\n",
       "      <th>id</th>\n",
       "      <th>date</th>\n",
       "      <th>energyreal_wac_sum_consumed</th>\n",
       "      <th>energyreal_wac_sum_produced</th>\n",
       "      <th>current_ac_sum</th>\n",
       "      <th>powerreal_p_sum</th>\n",
       "      <th>reference</th>\n",
       "      <th>voltage_ac_phase_average</th>\n",
       "    </tr>\n",
       "  </thead>\n",
       "  <tbody>\n",
       "    <tr>\n",
       "      <th>0</th>\n",
       "      <td>3108530</td>\n",
       "      <td>['May', '16', '2022', '00:00:00']</td>\n",
       "      <td>33843600.0</td>\n",
       "      <td>242388.0</td>\n",
       "      <td>65.15810</td>\n",
       "      <td>7403.190</td>\n",
       "      <td>comfenalco1-meter</td>\n",
       "      <td>127.000</td>\n",
       "    </tr>\n",
       "    <tr>\n",
       "      <th>1</th>\n",
       "      <td>3108531</td>\n",
       "      <td>['May', '16', '2022', '00:00:00']</td>\n",
       "      <td>3202100.0</td>\n",
       "      <td>12528600.0</td>\n",
       "      <td>5.14009</td>\n",
       "      <td>342.882</td>\n",
       "      <td>takurika1-meter</td>\n",
       "      <td>125.047</td>\n",
       "    </tr>\n",
       "    <tr>\n",
       "      <th>2</th>\n",
       "      <td>3108532</td>\n",
       "      <td>['May', '16', '2022', '00:00:00']</td>\n",
       "      <td>16537400.0</td>\n",
       "      <td>22086.0</td>\n",
       "      <td>44.60990</td>\n",
       "      <td>5397.920</td>\n",
       "      <td>edlv-meter</td>\n",
       "      <td>126.678</td>\n",
       "    </tr>\n",
       "    <tr>\n",
       "      <th>3</th>\n",
       "      <td>3108533</td>\n",
       "      <td>['May', '16', '2022', '00:00:00']</td>\n",
       "      <td>33843700.0</td>\n",
       "      <td>242388.0</td>\n",
       "      <td>64.47030</td>\n",
       "      <td>7308.290</td>\n",
       "      <td>comfenalco1-meter</td>\n",
       "      <td>126.997</td>\n",
       "    </tr>\n",
       "    <tr>\n",
       "      <th>4</th>\n",
       "      <td>3108534</td>\n",
       "      <td>['May', '16', '2022', '00:00:00']</td>\n",
       "      <td>3202100.0</td>\n",
       "      <td>12528600.0</td>\n",
       "      <td>5.14234</td>\n",
       "      <td>343.748</td>\n",
       "      <td>takurika1-meter</td>\n",
       "      <td>125.156</td>\n",
       "    </tr>\n",
       "    <tr>\n",
       "      <th>5</th>\n",
       "      <td>3108535</td>\n",
       "      <td>['May', '16', '2022', '00:00:00']</td>\n",
       "      <td>33843700.0</td>\n",
       "      <td>242388.0</td>\n",
       "      <td>64.66300</td>\n",
       "      <td>7339.680</td>\n",
       "      <td>comfenalco1-meter</td>\n",
       "      <td>127.154</td>\n",
       "    </tr>\n",
       "    <tr>\n",
       "      <th>6</th>\n",
       "      <td>3108536</td>\n",
       "      <td>['May', '16', '2022', '00:00:00']</td>\n",
       "      <td>3202100.0</td>\n",
       "      <td>12528600.0</td>\n",
       "      <td>5.13959</td>\n",
       "      <td>343.197</td>\n",
       "      <td>takurika1-meter</td>\n",
       "      <td>125.295</td>\n",
       "    </tr>\n",
       "    <tr>\n",
       "      <th>7</th>\n",
       "      <td>3108537</td>\n",
       "      <td>['May', '16', '2022', '00:00:00']</td>\n",
       "      <td>33843700.0</td>\n",
       "      <td>242388.0</td>\n",
       "      <td>64.23390</td>\n",
       "      <td>7270.400</td>\n",
       "      <td>comfenalco1-meter</td>\n",
       "      <td>127.009</td>\n",
       "    </tr>\n",
       "    <tr>\n",
       "      <th>8</th>\n",
       "      <td>3108538</td>\n",
       "      <td>['May', '16', '2022', '00:00:00']</td>\n",
       "      <td>3202100.0</td>\n",
       "      <td>12528600.0</td>\n",
       "      <td>5.13756</td>\n",
       "      <td>343.246</td>\n",
       "      <td>takurika1-meter</td>\n",
       "      <td>125.128</td>\n",
       "    </tr>\n",
       "    <tr>\n",
       "      <th>9</th>\n",
       "      <td>3108539</td>\n",
       "      <td>['May', '16', '2022', '00:00:00']</td>\n",
       "      <td>33843700.0</td>\n",
       "      <td>242388.0</td>\n",
       "      <td>64.12690</td>\n",
       "      <td>7258.180</td>\n",
       "      <td>comfenalco1-meter</td>\n",
       "      <td>127.209</td>\n",
       "    </tr>\n",
       "  </tbody>\n",
       "</table>\n",
       "</div>"
      ],
      "text/plain": [
       "        id                               date  energyreal_wac_sum_consumed  \\\n",
       "0  3108530  ['May', '16', '2022', '00:00:00']                   33843600.0   \n",
       "1  3108531  ['May', '16', '2022', '00:00:00']                    3202100.0   \n",
       "2  3108532  ['May', '16', '2022', '00:00:00']                   16537400.0   \n",
       "3  3108533  ['May', '16', '2022', '00:00:00']                   33843700.0   \n",
       "4  3108534  ['May', '16', '2022', '00:00:00']                    3202100.0   \n",
       "5  3108535  ['May', '16', '2022', '00:00:00']                   33843700.0   \n",
       "6  3108536  ['May', '16', '2022', '00:00:00']                    3202100.0   \n",
       "7  3108537  ['May', '16', '2022', '00:00:00']                   33843700.0   \n",
       "8  3108538  ['May', '16', '2022', '00:00:00']                    3202100.0   \n",
       "9  3108539  ['May', '16', '2022', '00:00:00']                   33843700.0   \n",
       "\n",
       "   energyreal_wac_sum_produced  current_ac_sum  powerreal_p_sum  \\\n",
       "0                     242388.0        65.15810         7403.190   \n",
       "1                   12528600.0         5.14009          342.882   \n",
       "2                      22086.0        44.60990         5397.920   \n",
       "3                     242388.0        64.47030         7308.290   \n",
       "4                   12528600.0         5.14234          343.748   \n",
       "5                     242388.0        64.66300         7339.680   \n",
       "6                   12528600.0         5.13959          343.197   \n",
       "7                     242388.0        64.23390         7270.400   \n",
       "8                   12528600.0         5.13756          343.246   \n",
       "9                     242388.0        64.12690         7258.180   \n",
       "\n",
       "           reference  voltage_ac_phase_average  \n",
       "0  comfenalco1-meter                   127.000  \n",
       "1    takurika1-meter                   125.047  \n",
       "2         edlv-meter                   126.678  \n",
       "3  comfenalco1-meter                   126.997  \n",
       "4    takurika1-meter                   125.156  \n",
       "5  comfenalco1-meter                   127.154  \n",
       "6    takurika1-meter                   125.295  \n",
       "7  comfenalco1-meter                   127.009  \n",
       "8    takurika1-meter                   125.128  \n",
       "9  comfenalco1-meter                   127.209  "
      ]
     },
     "execution_count": 9,
     "metadata": {},
     "output_type": "execute_result"
    }
   ],
   "source": [
    "df = pd.read_csv('./data.csv', sep=',')\n",
    "df.head(10)"
   ]
  },
  {
   "cell_type": "code",
   "execution_count": 10,
   "id": "626d95b5",
   "metadata": {},
   "outputs": [
    {
     "name": "stdout",
     "output_type": "stream",
     "text": [
      "<class 'pandas.core.frame.DataFrame'>\n",
      "RangeIndex: 1170 entries, 0 to 1169\n",
      "Data columns (total 8 columns):\n",
      " #   Column                       Non-Null Count  Dtype  \n",
      "---  ------                       --------------  -----  \n",
      " 0   id                           1170 non-null   int64  \n",
      " 1   date                         1170 non-null   object \n",
      " 2   energyreal_wac_sum_consumed  1170 non-null   float64\n",
      " 3   energyreal_wac_sum_produced  1170 non-null   float64\n",
      " 4   current_ac_sum               1170 non-null   float64\n",
      " 5   powerreal_p_sum              1170 non-null   float64\n",
      " 6   reference                    1170 non-null   object \n",
      " 7   voltage_ac_phase_average     1170 non-null   float64\n",
      "dtypes: float64(5), int64(1), object(2)\n",
      "memory usage: 73.2+ KB\n"
     ]
    }
   ],
   "source": [
    "df.info()"
   ]
  },
  {
   "cell_type": "code",
   "execution_count": 11,
   "id": "e7afde60",
   "metadata": {},
   "outputs": [
    {
     "data": {
      "text/plain": [
       "id                             0\n",
       "date                           0\n",
       "energyreal_wac_sum_consumed    0\n",
       "energyreal_wac_sum_produced    0\n",
       "current_ac_sum                 0\n",
       "powerreal_p_sum                0\n",
       "reference                      0\n",
       "voltage_ac_phase_average       0\n",
       "dtype: int64"
      ]
     },
     "execution_count": 11,
     "metadata": {},
     "output_type": "execute_result"
    }
   ],
   "source": [
    "df.isnull().sum()"
   ]
  },
  {
   "cell_type": "code",
   "execution_count": 13,
   "id": "cb92849c",
   "metadata": {},
   "outputs": [
    {
     "data": {
      "text/plain": [
       "comfenalco1-meter    546\n",
       "takurika1-meter      512\n",
       "edlv-meter           112\n",
       "Name: reference, dtype: int64"
      ]
     },
     "execution_count": 13,
     "metadata": {},
     "output_type": "execute_result"
    }
   ],
   "source": [
    "data_raw['reference'].value_counts()"
   ]
  },
  {
   "cell_type": "code",
   "execution_count": 14,
   "id": "d718bd23",
   "metadata": {},
   "outputs": [
    {
     "data": {
      "text/plain": [
       "130.025    4\n",
       "126.859    3\n",
       "123.498    3\n",
       "123.404    3\n",
       "129.710    3\n",
       "          ..\n",
       "124.085    1\n",
       "127.205    1\n",
       "127.293    1\n",
       "124.202    1\n",
       "129.399    1\n",
       "Name: voltage_ac_phase_average, Length: 1055, dtype: int64"
      ]
     },
     "execution_count": 14,
     "metadata": {},
     "output_type": "execute_result"
    }
   ],
   "source": [
    "data_raw['voltage_ac_phase_average'].value_counts()"
   ]
  },
  {
   "cell_type": "code",
   "execution_count": 15,
   "id": "5f4af68b",
   "metadata": {},
   "outputs": [
    {
     "data": {
      "text/plain": [
       " 329.341     3\n",
       " 4064.290    2\n",
       " 329.667     2\n",
       " 3755.750    2\n",
       " 330.162     2\n",
       "            ..\n",
       " 328.960     1\n",
       " 3916.740    1\n",
       " 3969.390    1\n",
       " 329.274     1\n",
       "-6606.480    1\n",
       "Name: powerreal_p_sum, Length: 1138, dtype: int64"
      ]
     },
     "execution_count": 15,
     "metadata": {},
     "output_type": "execute_result"
    }
   ],
   "source": [
    "data_raw['powerreal_p_sum'].value_counts()"
   ]
  },
  {
   "cell_type": "code",
   "execution_count": 16,
   "id": "d5609bf3",
   "metadata": {},
   "outputs": [
    {
     "data": {
      "text/plain": [
       " 4.83064     3\n",
       " 38.47280    3\n",
       " 39.12050    2\n",
       " 22.42500    2\n",
       " 4.80441     2\n",
       "            ..\n",
       " 4.78166     1\n",
       " 4.77529     1\n",
       " 5.16256     1\n",
       " 37.63470    1\n",
       "-56.06040    1\n",
       "Name: current_ac_sum, Length: 1147, dtype: int64"
      ]
     },
     "execution_count": 16,
     "metadata": {},
     "output_type": "execute_result"
    }
   ],
   "source": [
    "data_raw['current_ac_sum'].value_counts()"
   ]
  },
  {
   "cell_type": "code",
   "execution_count": 17,
   "id": "0935e1fc",
   "metadata": {},
   "outputs": [
    {
     "data": {
      "text/plain": [
       "235658.0    10\n",
       "235537.0    10\n",
       "242245.0     9\n",
       "241909.0     8\n",
       "242056.0     8\n",
       "            ..\n",
       "10200.0      1\n",
       "17846.0      1\n",
       "10532.0      1\n",
       "17738.0      1\n",
       "15038.0      1\n",
       "Name: energyreal_wac_sum_produced, Length: 319, dtype: int64"
      ]
     },
     "execution_count": 17,
     "metadata": {},
     "output_type": "execute_result"
    }
   ],
   "source": [
    "data_raw['energyreal_wac_sum_produced'].value_counts()"
   ]
  },
  {
   "cell_type": "code",
   "execution_count": 18,
   "id": "f39fc2dc",
   "metadata": {},
   "outputs": [
    {
     "data": {
      "text/plain": [
       "24309700.0    10\n",
       "24382600.0    10\n",
       "2138860.0      8\n",
       "32538200.0     8\n",
       "2125660.0      8\n",
       "              ..\n",
       "12277400.0     1\n",
       "12347800.0     1\n",
       "20864000.0     1\n",
       "8621680.0      1\n",
       "33843600.0     1\n",
       "Name: energyreal_wac_sum_consumed, Length: 421, dtype: int64"
      ]
     },
     "execution_count": 18,
     "metadata": {},
     "output_type": "execute_result"
    }
   ],
   "source": [
    "data_raw['energyreal_wac_sum_consumed'].value_counts()"
   ]
  },
  {
   "cell_type": "code",
   "execution_count": null,
   "id": "c2a587fa",
   "metadata": {},
   "outputs": [],
   "source": []
  }
 ],
 "metadata": {
  "kernelspec": {
   "display_name": "Python 3 (ipykernel)",
   "language": "python",
   "name": "python3"
  },
  "language_info": {
   "codemirror_mode": {
    "name": "ipython",
    "version": 3
   },
   "file_extension": ".py",
   "mimetype": "text/x-python",
   "name": "python",
   "nbconvert_exporter": "python",
   "pygments_lexer": "ipython3",
   "version": "3.9.7"
  }
 },
 "nbformat": 4,
 "nbformat_minor": 5
}
