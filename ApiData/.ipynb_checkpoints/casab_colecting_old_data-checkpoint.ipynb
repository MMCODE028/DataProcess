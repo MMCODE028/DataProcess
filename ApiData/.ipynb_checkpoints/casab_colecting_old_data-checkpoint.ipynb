{
 "cells": [
  {
   "cell_type": "code",
   "execution_count": 1,
   "metadata": {
    "id": "POYoS9n0xE_k"
   },
   "outputs": [
    {
     "name": "stdout",
     "output_type": "stream",
     "text": [
      "Requirement already satisfied: pyodbc in c:\\users\\carlos\\anaconda3\\lib\\site-packages (4.0.0-unsupported)\n"
     ]
    }
   ],
   "source": [
    "!pip install pyodbc"
   ]
  },
  {
   "cell_type": "code",
   "execution_count": 2,
   "metadata": {
    "id": "EUtoAGmwkNUh"
   },
   "outputs": [],
   "source": [
    "import requests\n",
    "import pandas as pd\n",
    "import pyodbc as pyo\n",
    "from datetime import date"
   ]
  },
  {
   "cell_type": "code",
   "execution_count": 3,
   "metadata": {
    "id": "eVbC4Z7QKQwy"
   },
   "outputs": [],
   "source": [
    "# creating a df\n",
    "df = pd.DataFrame(columns=[\"id\",\n",
    "                           \"date\",\n",
    "                           \"energyreal_wac_sum_consumed\",\n",
    "                           \"energyreal_wac_sum_produced\",\n",
    "                           \"current_ac_sum\",\n",
    "                           \"powerreal_p_sum\",\n",
    "                           \"reference\",\n",
    "                           \"voltage_ac_phase_average\",\n",
    "                           ])"
   ]
  },
  {
   "cell_type": "code",
   "execution_count": 4,
   "metadata": {
    "id": "fWOIPMIuF9WE"
   },
   "outputs": [
    {
     "ename": "KeyError",
     "evalue": "'energyreal_wac_sum_consumed'",
     "output_type": "error",
     "traceback": [
      "\u001b[1;31m---------------------------------------------------------------------------\u001b[0m",
      "\u001b[1;31mKeyError\u001b[0m                                  Traceback (most recent call last)",
      "\u001b[1;32m~\\AppData\\Local\\Temp/ipykernel_9924/1126718602.py\u001b[0m in \u001b[0;36m<module>\u001b[1;34m\u001b[0m\n\u001b[0;32m      6\u001b[0m     \u001b[0mid\u001b[0m \u001b[1;33m=\u001b[0m \u001b[0mcount\u001b[0m\u001b[1;33m[\u001b[0m\u001b[1;34m'id'\u001b[0m\u001b[1;33m]\u001b[0m\u001b[1;33m\u001b[0m\u001b[1;33m\u001b[0m\u001b[0m\n\u001b[0;32m      7\u001b[0m     \u001b[0mdate\u001b[0m \u001b[1;33m=\u001b[0m \u001b[0mstr\u001b[0m\u001b[1;33m(\u001b[0m\u001b[0mcount\u001b[0m\u001b[1;33m[\u001b[0m\u001b[1;34m'created_at'\u001b[0m\u001b[1;33m]\u001b[0m\u001b[1;33m)\u001b[0m\u001b[1;33m.\u001b[0m\u001b[0msplit\u001b[0m\u001b[1;33m(\u001b[0m\u001b[1;34m' '\u001b[0m\u001b[1;33m)\u001b[0m\u001b[1;33m\u001b[0m\u001b[1;33m\u001b[0m\u001b[0m\n\u001b[1;32m----> 8\u001b[1;33m     \u001b[0menergyreal_wac_sum_consumed\u001b[0m \u001b[1;33m=\u001b[0m \u001b[0mcount\u001b[0m\u001b[1;33m[\u001b[0m\u001b[1;34m'energyreal_wac_sum_consumed'\u001b[0m\u001b[1;33m]\u001b[0m\u001b[1;33m\u001b[0m\u001b[1;33m\u001b[0m\u001b[0m\n\u001b[0m\u001b[0;32m      9\u001b[0m     \u001b[0menergyreal_wac_sum_produced\u001b[0m \u001b[1;33m=\u001b[0m \u001b[0mcount\u001b[0m\u001b[1;33m[\u001b[0m\u001b[1;34m'energyreal_wac_sum_produced'\u001b[0m\u001b[1;33m]\u001b[0m\u001b[1;33m\u001b[0m\u001b[1;33m\u001b[0m\u001b[0m\n\u001b[0;32m     10\u001b[0m     \u001b[0mcurrent_ac_sum\u001b[0m \u001b[1;33m=\u001b[0m \u001b[0mcount\u001b[0m\u001b[1;33m[\u001b[0m\u001b[1;34m'current_ac_sum'\u001b[0m\u001b[1;33m]\u001b[0m\u001b[1;33m\u001b[0m\u001b[1;33m\u001b[0m\u001b[0m\n",
      "\u001b[1;31mKeyError\u001b[0m: 'energyreal_wac_sum_consumed'"
     ]
    }
   ],
   "source": [
    "date = \"20220517\"\n",
    "url = 'https://data.exia.com.co/demo/inverter/fronius?date=' + date\n",
    "response = requests.get(url).json()\n",
    "\n",
    "for count in response:\n",
    "    id = count['id']\n",
    "    date = str(count['created_at']).split(' ')\n",
    "    energyreal_wac_sum_consumed = count['energyreal_wac_sum_consumed']\n",
    "    energyreal_wac_sum_produced = count['energyreal_wac_sum_produced']\n",
    "    current_ac_sum = count['current_ac_sum']\n",
    "    powerreal_p_sum = count['powerreal_p_sum']\n",
    "    reference = count['reference']\n",
    "    voltage_ac_phase_average = count['voltage_ac_phase_average']\n",
    "\n",
    "    #save data into df\n",
    "    df = df.append({\"id\": id,\n",
    "              \"date\": date,\n",
    "              \"energyreal_wac_sum_consumed\": energyreal_wac_sum_consumed,\n",
    "              \"energyreal_wac_sum_produced\":energyreal_wac_sum_produced,\n",
    "              \"current_ac_sum\": current_ac_sum,\n",
    "              \"powerreal_p_sum\": powerreal_p_sum,\n",
    "              \"reference\": reference,\n",
    "              \"voltage_ac_phase_average\":voltage_ac_phase_average\n",
    "              }, ignore_index=True)"
   ]
  },
  {
   "cell_type": "code",
   "execution_count": null,
   "metadata": {
    "colab": {
     "base_uri": "https://localhost:8080/"
    },
    "id": "srvJxX2V7btQ",
    "outputId": "f9e66820-1ae3-46a4-c75c-7d94158a1a52"
   },
   "outputs": [
    {
     "data": {
      "text/plain": [
       "[]"
      ]
     },
     "execution_count": 210,
     "metadata": {},
     "output_type": "execute_result"
    }
   ],
   "source": [
    "response"
   ]
  },
  {
   "cell_type": "code",
   "execution_count": null,
   "metadata": {
    "colab": {
     "base_uri": "https://localhost:8080/",
     "height": 835
    },
    "id": "qq2l2VNPGEW6",
    "outputId": "11f5fb86-f559-46ef-8a87-696e5ce0f2b6"
   },
   "outputs": [
    {
     "data": {
      "text/html": [
       "\n",
       "  <div id=\"df-824887b0-15d6-4c51-b9a3-9463689c6489\">\n",
       "    <div class=\"colab-df-container\">\n",
       "      <div>\n",
       "<style scoped>\n",
       "    .dataframe tbody tr th:only-of-type {\n",
       "        vertical-align: middle;\n",
       "    }\n",
       "\n",
       "    .dataframe tbody tr th {\n",
       "        vertical-align: top;\n",
       "    }\n",
       "\n",
       "    .dataframe thead th {\n",
       "        text-align: right;\n",
       "    }\n",
       "</style>\n",
       "<table border=\"1\" class=\"dataframe\">\n",
       "  <thead>\n",
       "    <tr style=\"text-align: right;\">\n",
       "      <th></th>\n",
       "      <th>id</th>\n",
       "      <th>date</th>\n",
       "      <th>energyreal_wac_sum_consumed</th>\n",
       "      <th>energyreal_wac_sum_produced</th>\n",
       "      <th>current_ac_sum</th>\n",
       "      <th>powerreal_p_sum</th>\n",
       "      <th>reference</th>\n",
       "      <th>voltage_ac_phase_average</th>\n",
       "    </tr>\n",
       "  </thead>\n",
       "  <tbody>\n",
       "    <tr>\n",
       "      <th>0</th>\n",
       "      <td>3108530</td>\n",
       "      <td>[May, 16, 2022, 00:00:00]</td>\n",
       "      <td>33843600.0</td>\n",
       "      <td>242388.0</td>\n",
       "      <td>65.15810</td>\n",
       "      <td>7403.190</td>\n",
       "      <td>comfenalco1-meter</td>\n",
       "      <td>127.000</td>\n",
       "    </tr>\n",
       "    <tr>\n",
       "      <th>1</th>\n",
       "      <td>3108531</td>\n",
       "      <td>[May, 16, 2022, 00:00:00]</td>\n",
       "      <td>3202100.0</td>\n",
       "      <td>12528600.0</td>\n",
       "      <td>5.14009</td>\n",
       "      <td>342.882</td>\n",
       "      <td>takurika1-meter</td>\n",
       "      <td>125.047</td>\n",
       "    </tr>\n",
       "    <tr>\n",
       "      <th>2</th>\n",
       "      <td>3108532</td>\n",
       "      <td>[May, 16, 2022, 00:00:00]</td>\n",
       "      <td>16537400.0</td>\n",
       "      <td>22086.0</td>\n",
       "      <td>44.60990</td>\n",
       "      <td>5397.920</td>\n",
       "      <td>edlv-meter</td>\n",
       "      <td>126.678</td>\n",
       "    </tr>\n",
       "    <tr>\n",
       "      <th>3</th>\n",
       "      <td>3108533</td>\n",
       "      <td>[May, 16, 2022, 00:00:00]</td>\n",
       "      <td>33843700.0</td>\n",
       "      <td>242388.0</td>\n",
       "      <td>64.47030</td>\n",
       "      <td>7308.290</td>\n",
       "      <td>comfenalco1-meter</td>\n",
       "      <td>126.997</td>\n",
       "    </tr>\n",
       "    <tr>\n",
       "      <th>4</th>\n",
       "      <td>3108534</td>\n",
       "      <td>[May, 16, 2022, 00:00:00]</td>\n",
       "      <td>3202100.0</td>\n",
       "      <td>12528600.0</td>\n",
       "      <td>5.14234</td>\n",
       "      <td>343.748</td>\n",
       "      <td>takurika1-meter</td>\n",
       "      <td>125.156</td>\n",
       "    </tr>\n",
       "    <tr>\n",
       "      <th>...</th>\n",
       "      <td>...</td>\n",
       "      <td>...</td>\n",
       "      <td>...</td>\n",
       "      <td>...</td>\n",
       "      <td>...</td>\n",
       "      <td>...</td>\n",
       "      <td>...</td>\n",
       "      <td>...</td>\n",
       "    </tr>\n",
       "    <tr>\n",
       "      <th>1165</th>\n",
       "      <td>1151080</td>\n",
       "      <td>[Jan, 20, 2022, 20:02:27]</td>\n",
       "      <td>1587340.0</td>\n",
       "      <td>5700200.0</td>\n",
       "      <td>-55.61680</td>\n",
       "      <td>-6557.550</td>\n",
       "      <td>takurika1-meter</td>\n",
       "      <td>122.175</td>\n",
       "    </tr>\n",
       "    <tr>\n",
       "      <th>1166</th>\n",
       "      <td>1151081</td>\n",
       "      <td>[Jan, 20, 2022, 20:02:33]</td>\n",
       "      <td>17392100.0</td>\n",
       "      <td>229895.0</td>\n",
       "      <td>128.05200</td>\n",
       "      <td>11662.400</td>\n",
       "      <td>comfenalco1-meter</td>\n",
       "      <td>129.469</td>\n",
       "    </tr>\n",
       "    <tr>\n",
       "      <th>1167</th>\n",
       "      <td>1151082</td>\n",
       "      <td>[Jan, 20, 2022, 20:02:38]</td>\n",
       "      <td>1587340.0</td>\n",
       "      <td>5700200.0</td>\n",
       "      <td>-56.00750</td>\n",
       "      <td>-6602.940</td>\n",
       "      <td>takurika1-meter</td>\n",
       "      <td>122.110</td>\n",
       "    </tr>\n",
       "    <tr>\n",
       "      <th>1168</th>\n",
       "      <td>1151083</td>\n",
       "      <td>[Jan, 20, 2022, 20:02:43]</td>\n",
       "      <td>17392100.0</td>\n",
       "      <td>229895.0</td>\n",
       "      <td>122.38700</td>\n",
       "      <td>10930.300</td>\n",
       "      <td>comfenalco1-meter</td>\n",
       "      <td>129.399</td>\n",
       "    </tr>\n",
       "    <tr>\n",
       "      <th>1169</th>\n",
       "      <td>1151084</td>\n",
       "      <td>[Jan, 20, 2022, 20:02:47]</td>\n",
       "      <td>1587340.0</td>\n",
       "      <td>5700200.0</td>\n",
       "      <td>-56.06040</td>\n",
       "      <td>-6606.480</td>\n",
       "      <td>takurika1-meter</td>\n",
       "      <td>122.130</td>\n",
       "    </tr>\n",
       "  </tbody>\n",
       "</table>\n",
       "<p>1170 rows × 8 columns</p>\n",
       "</div>\n",
       "      <button class=\"colab-df-convert\" onclick=\"convertToInteractive('df-824887b0-15d6-4c51-b9a3-9463689c6489')\"\n",
       "              title=\"Convert this dataframe to an interactive table.\"\n",
       "              style=\"display:none;\">\n",
       "        \n",
       "  <svg xmlns=\"http://www.w3.org/2000/svg\" height=\"24px\"viewBox=\"0 0 24 24\"\n",
       "       width=\"24px\">\n",
       "    <path d=\"M0 0h24v24H0V0z\" fill=\"none\"/>\n",
       "    <path d=\"M18.56 5.44l.94 2.06.94-2.06 2.06-.94-2.06-.94-.94-2.06-.94 2.06-2.06.94zm-11 1L8.5 8.5l.94-2.06 2.06-.94-2.06-.94L8.5 2.5l-.94 2.06-2.06.94zm10 10l.94 2.06.94-2.06 2.06-.94-2.06-.94-.94-2.06-.94 2.06-2.06.94z\"/><path d=\"M17.41 7.96l-1.37-1.37c-.4-.4-.92-.59-1.43-.59-.52 0-1.04.2-1.43.59L10.3 9.45l-7.72 7.72c-.78.78-.78 2.05 0 2.83L4 21.41c.39.39.9.59 1.41.59.51 0 1.02-.2 1.41-.59l7.78-7.78 2.81-2.81c.8-.78.8-2.07 0-2.86zM5.41 20L4 18.59l7.72-7.72 1.47 1.35L5.41 20z\"/>\n",
       "  </svg>\n",
       "      </button>\n",
       "      \n",
       "  <style>\n",
       "    .colab-df-container {\n",
       "      display:flex;\n",
       "      flex-wrap:wrap;\n",
       "      gap: 12px;\n",
       "    }\n",
       "\n",
       "    .colab-df-convert {\n",
       "      background-color: #E8F0FE;\n",
       "      border: none;\n",
       "      border-radius: 50%;\n",
       "      cursor: pointer;\n",
       "      display: none;\n",
       "      fill: #1967D2;\n",
       "      height: 32px;\n",
       "      padding: 0 0 0 0;\n",
       "      width: 32px;\n",
       "    }\n",
       "\n",
       "    .colab-df-convert:hover {\n",
       "      background-color: #E2EBFA;\n",
       "      box-shadow: 0px 1px 2px rgba(60, 64, 67, 0.3), 0px 1px 3px 1px rgba(60, 64, 67, 0.15);\n",
       "      fill: #174EA6;\n",
       "    }\n",
       "\n",
       "    [theme=dark] .colab-df-convert {\n",
       "      background-color: #3B4455;\n",
       "      fill: #D2E3FC;\n",
       "    }\n",
       "\n",
       "    [theme=dark] .colab-df-convert:hover {\n",
       "      background-color: #434B5C;\n",
       "      box-shadow: 0px 1px 3px 1px rgba(0, 0, 0, 0.15);\n",
       "      filter: drop-shadow(0px 1px 2px rgba(0, 0, 0, 0.3));\n",
       "      fill: #FFFFFF;\n",
       "    }\n",
       "  </style>\n",
       "\n",
       "      <script>\n",
       "        const buttonEl =\n",
       "          document.querySelector('#df-824887b0-15d6-4c51-b9a3-9463689c6489 button.colab-df-convert');\n",
       "        buttonEl.style.display =\n",
       "          google.colab.kernel.accessAllowed ? 'block' : 'none';\n",
       "\n",
       "        async function convertToInteractive(key) {\n",
       "          const element = document.querySelector('#df-824887b0-15d6-4c51-b9a3-9463689c6489');\n",
       "          const dataTable =\n",
       "            await google.colab.kernel.invokeFunction('convertToInteractive',\n",
       "                                                     [key], {});\n",
       "          if (!dataTable) return;\n",
       "\n",
       "          const docLinkHtml = 'Like what you see? Visit the ' +\n",
       "            '<a target=\"_blank\" href=https://colab.research.google.com/notebooks/data_table.ipynb>data table notebook</a>'\n",
       "            + ' to learn more about interactive tables.';\n",
       "          element.innerHTML = '';\n",
       "          dataTable['output_type'] = 'display_data';\n",
       "          await google.colab.output.renderOutput(dataTable, element);\n",
       "          const docLink = document.createElement('div');\n",
       "          docLink.innerHTML = docLinkHtml;\n",
       "          element.appendChild(docLink);\n",
       "        }\n",
       "      </script>\n",
       "    </div>\n",
       "  </div>\n",
       "  "
      ],
      "text/plain": [
       "           id                       date  energyreal_wac_sum_consumed  \\\n",
       "0     3108530  [May, 16, 2022, 00:00:00]                   33843600.0   \n",
       "1     3108531  [May, 16, 2022, 00:00:00]                    3202100.0   \n",
       "2     3108532  [May, 16, 2022, 00:00:00]                   16537400.0   \n",
       "3     3108533  [May, 16, 2022, 00:00:00]                   33843700.0   \n",
       "4     3108534  [May, 16, 2022, 00:00:00]                    3202100.0   \n",
       "...       ...                        ...                          ...   \n",
       "1165  1151080  [Jan, 20, 2022, 20:02:27]                    1587340.0   \n",
       "1166  1151081  [Jan, 20, 2022, 20:02:33]                   17392100.0   \n",
       "1167  1151082  [Jan, 20, 2022, 20:02:38]                    1587340.0   \n",
       "1168  1151083  [Jan, 20, 2022, 20:02:43]                   17392100.0   \n",
       "1169  1151084  [Jan, 20, 2022, 20:02:47]                    1587340.0   \n",
       "\n",
       "      energyreal_wac_sum_produced  current_ac_sum  powerreal_p_sum  \\\n",
       "0                        242388.0        65.15810         7403.190   \n",
       "1                      12528600.0         5.14009          342.882   \n",
       "2                         22086.0        44.60990         5397.920   \n",
       "3                        242388.0        64.47030         7308.290   \n",
       "4                      12528600.0         5.14234          343.748   \n",
       "...                           ...             ...              ...   \n",
       "1165                    5700200.0       -55.61680        -6557.550   \n",
       "1166                     229895.0       128.05200        11662.400   \n",
       "1167                    5700200.0       -56.00750        -6602.940   \n",
       "1168                     229895.0       122.38700        10930.300   \n",
       "1169                    5700200.0       -56.06040        -6606.480   \n",
       "\n",
       "              reference  voltage_ac_phase_average  \n",
       "0     comfenalco1-meter                   127.000  \n",
       "1       takurika1-meter                   125.047  \n",
       "2            edlv-meter                   126.678  \n",
       "3     comfenalco1-meter                   126.997  \n",
       "4       takurika1-meter                   125.156  \n",
       "...                 ...                       ...  \n",
       "1165    takurika1-meter                   122.175  \n",
       "1166  comfenalco1-meter                   129.469  \n",
       "1167    takurika1-meter                   122.110  \n",
       "1168  comfenalco1-meter                   129.399  \n",
       "1169    takurika1-meter                   122.130  \n",
       "\n",
       "[1170 rows x 8 columns]"
      ]
     },
     "execution_count": 219,
     "metadata": {},
     "output_type": "execute_result"
    }
   ],
   "source": [
    "df.head(2000)"
   ]
  },
  {
   "cell_type": "code",
   "execution_count": null,
   "metadata": {
    "id": "V9PfHvAMJbLS"
   },
   "outputs": [],
   "source": [
    "df.sort_values(by=['id'], ascending=False)\n",
    "df.head(2000)"
   ]
  },
  {
   "cell_type": "code",
   "execution_count": null,
   "metadata": {
    "id": "Fopp2IGAJlua"
   },
   "outputs": [],
   "source": [
    "df.to_csv('dataInverter.csv',index=False)"
   ]
  }
 ],
 "metadata": {
  "colab": {
   "name": "casab_colecting_old_data.ipynb",
   "provenance": []
  },
  "kernelspec": {
   "display_name": "Python 3 (ipykernel)",
   "language": "python",
   "name": "python3"
  },
  "language_info": {
   "codemirror_mode": {
    "name": "ipython",
    "version": 3
   },
   "file_extension": ".py",
   "mimetype": "text/x-python",
   "name": "python",
   "nbconvert_exporter": "python",
   "pygments_lexer": "ipython3",
   "version": "3.9.7"
  }
 },
 "nbformat": 4,
 "nbformat_minor": 1
}
