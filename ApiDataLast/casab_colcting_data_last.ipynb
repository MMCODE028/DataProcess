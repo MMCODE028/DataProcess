{
 "cells": [
  {
   "cell_type": "code",
   "execution_count": 2,
   "metadata": {},
   "outputs": [],
   "source": [
    "import requests\n",
    "import pandas as pd\n",
    "import pyodbc \n",
    "from datetime import date\n",
    "import time"
   ]
  },
  {
   "cell_type": "code",
   "execution_count": 3,
   "metadata": {},
   "outputs": [],
   "source": [
    "def colecting_data(df):\n",
    "    url = 'https://data.exia.com.co/demo/data/last'\n",
    "    try:\n",
    "        response = requests.get(url).json()\n",
    "        time.sleep(1)\n",
    "    except Exception as e:\n",
    "        print(404)\n",
    "    else:\n",
    "        print(200)\n",
    "            \n",
    "    co2factor = response[\"co2factor\"]\n",
    "    created_at = response[\"created_at\"]\n",
    "    day_energy = response[\"day_energy\"]\n",
    "    id = response[\"id\"]\n",
    "    pac_sum = response[\"pac_sum\"]\n",
    "    pac_sum_counter = response[\"pac_sum_counter\"]\n",
    "    pac_sum_temp = response[\"pac_sum_temp\"]\n",
    "    power_counter = response[\"power_counter\"]\n",
    "    power_real = response[\"power_real\"]\n",
    "    power_real_temp = response[\"power_real_temp\"]\n",
    "    reference = response[\"reference\"]\n",
    "    total_energy = response[\"total_energy\"]\n",
    "    update_at = response[\"update_at\"]\n",
    "\n",
    "    df = df.append({\"co2factor\": co2factor,\"created_at\" : created_at,\"day_energy\" : day_energy,\n",
    "    \"id\" : id,\"pac_sum\" : pac_sum,\"pac_sum_counter\" : pac_sum_counter,\"pac_sum_temp\": pac_sum_temp,\n",
    "    \"power_counter\": power_counter,\"power_real\": power_real,\"power_real_temp\": power_real_temp,\"reference\": reference,\n",
    "    \"total_energy\":total_energy,\"update_at\": update_at}, ignore_index = True)\n",
    "\n",
    "    return df\n",
    "    \n",
    "\n",
    "       "
   ]
  },
  {
   "cell_type": "code",
   "execution_count": 4,
   "metadata": {},
   "outputs": [
    {
     "name": "stdout",
     "output_type": "stream",
     "text": [
      "200\n"
     ]
    },
    {
     "name": "stderr",
     "output_type": "stream",
     "text": [
      "C:\\Users\\Alberto\\AppData\\Local\\Temp\\ipykernel_10216\\1295553015.py:25: FutureWarning: The frame.append method is deprecated and will be removed from pandas in a future version. Use pandas.concat instead.\n",
      "  df = df.append({\"co2factor\": co2factor,\"created_at\" : created_at,\"day_energy\" : day_energy,\n"
     ]
    }
   ],
   "source": [
    "df = pd.DataFrame(columns=[\n",
    "    'co2factor',\n",
    "    'created_at',\n",
    "    'day_energy',\n",
    "    'id',\n",
    "    'pac_sum',\n",
    "    'pac_sum_counter',\n",
    "    'pac_sum_temp',\n",
    "    'power_counter',\n",
    "    'power_real',\n",
    "    'power_real_temp',\n",
    "    'reference',\n",
    "    'total_energy',\n",
    "    'update_at',\n",
    "    ])\n",
    "    \n",
    "df = colecting_data(df) "
   ]
  },
  {
   "cell_type": "code",
   "execution_count": 5,
   "metadata": {},
   "outputs": [
    {
     "data": {
      "text/html": [
       "<div>\n",
       "<style scoped>\n",
       "    .dataframe tbody tr th:only-of-type {\n",
       "        vertical-align: middle;\n",
       "    }\n",
       "\n",
       "    .dataframe tbody tr th {\n",
       "        vertical-align: top;\n",
       "    }\n",
       "\n",
       "    .dataframe thead th {\n",
       "        text-align: right;\n",
       "    }\n",
       "</style>\n",
       "<table border=\"1\" class=\"dataframe\">\n",
       "  <thead>\n",
       "    <tr style=\"text-align: right;\">\n",
       "      <th></th>\n",
       "      <th>co2factor</th>\n",
       "      <th>created_at</th>\n",
       "      <th>day_energy</th>\n",
       "      <th>id</th>\n",
       "      <th>pac_sum</th>\n",
       "      <th>pac_sum_counter</th>\n",
       "      <th>pac_sum_temp</th>\n",
       "      <th>power_counter</th>\n",
       "      <th>power_real</th>\n",
       "      <th>power_real_temp</th>\n",
       "      <th>reference</th>\n",
       "      <th>total_energy</th>\n",
       "      <th>update_at</th>\n",
       "    </tr>\n",
       "  </thead>\n",
       "  <tbody>\n",
       "    <tr>\n",
       "      <th>0</th>\n",
       "      <td>6563950.0</td>\n",
       "      <td>May 21 2022 17:00:00</td>\n",
       "      <td>131789.0</td>\n",
       "      <td>15780</td>\n",
       "      <td>6421.0</td>\n",
       "      <td>0</td>\n",
       "      <td>0.0</td>\n",
       "      <td>1</td>\n",
       "      <td>468.852</td>\n",
       "      <td>18.0675</td>\n",
       "      <td>comfenalco1</td>\n",
       "      <td>39931500.0</td>\n",
       "      <td>May 21 2022 17:07:54</td>\n",
       "    </tr>\n",
       "  </tbody>\n",
       "</table>\n",
       "</div>"
      ],
      "text/plain": [
       "   co2factor            created_at day_energy     id pac_sum pac_sum_counter  \\\n",
       "0  6563950.0  May 21 2022 17:00:00   131789.0  15780  6421.0               0   \n",
       "\n",
       "  pac_sum_temp power_counter power_real power_real_temp    reference  \\\n",
       "0          0.0             1    468.852         18.0675  comfenalco1   \n",
       "\n",
       "  total_energy             update_at  \n",
       "0   39931500.0  May 21 2022 17:07:54  "
      ]
     },
     "execution_count": 5,
     "metadata": {},
     "output_type": "execute_result"
    }
   ],
   "source": [
    "df.head()"
   ]
  },
  {
   "cell_type": "code",
   "execution_count": 6,
   "metadata": {},
   "outputs": [
    {
     "name": "stdout",
     "output_type": "stream",
     "text": [
      "Ocurrió un error al conectar a SQL Server:  ('42000', '[42000] [Microsoft][ODBC Driver 13 for SQL Server][SQL Server]Reason: An instance-specific error occurred while establishing a connection to SQL Server. Connection was denied since Deny Public Network Access is set to Yes (https://docs.microsoft.com/azure/azure-sql/database/connectivity-settings#deny-public-network-access). To connect to this server, use the Private Endpoint from inside your virtual network (https://docs.microsoft.com/azure/sql-database/sql-database-private-endpoint-overview#how-to-set-up-private-link-for-azure-sql-database). (47073) (SQLDriverConnect); [42000] [Microsoft][ODBC Driver 13 for SQL Server]Invalid connection string attribute (0); [42000] [Microsoft][ODBC Driver 13 for SQL Server][SQL Server]Reason: An instance-specific error occurred while establishing a connection to SQL Server. Connection was denied since Deny Public Network Access is set to Yes (https://docs.microsoft.com/azure/azure-sql/database/connectivity-settings#deny-public-network-access). To connect to this server, use the Private Endpoint from inside your virtual network (https://docs.microsoft.com/azure/sql-database/sql-database-private-endpoint-overview#how-to-set-up-private-link-for-azure-sql-database). (47073); [42000] [Microsoft][ODBC Driver 13 for SQL Server]Invalid connection string attribute (0)')\n"
     ]
    }
   ],
   "source": [
    "#opening azure database\n",
    "\n",
    "try:\n",
    "    conexion = pyodbc.connect(\"Driver={ODBC Driver 13 for SQL Server};Server=tcp:casabapi.database.windows.net,1433;Database=casabapi;Uid=casabadmin;Pwd=Casab1124;Encrypt=yes;TrustServerCertificate=no;Connection Timeout=30;\")\n",
    "    print(\"\\n\"*2)\n",
    "    print(\"conexión exitosa\")\n",
    "    \n",
    "except Exception as e:\n",
    "    print(\"Ocurrió un error al conectar a SQL Server: \", e)"
   ]
  }
 ],
 "metadata": {
  "interpreter": {
   "hash": "e43464131c931da19dcddf4ed057bc086793babf21581c813ace49957d2d83ae"
  },
  "kernelspec": {
   "display_name": "Python 3.8.13 ('casab-api-manage')",
   "language": "python",
   "name": "python3"
  },
  "language_info": {
   "codemirror_mode": {
    "name": "ipython",
    "version": 3
   },
   "file_extension": ".py",
   "mimetype": "text/x-python",
   "name": "python",
   "nbconvert_exporter": "python",
   "pygments_lexer": "ipython3",
   "version": "3.8.13"
  },
  "orig_nbformat": 4
 },
 "nbformat": 4,
 "nbformat_minor": 2
}
