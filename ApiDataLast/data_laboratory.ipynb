{
 "cells": [
  {
   "cell_type": "code",
   "execution_count": 2,
   "metadata": {},
   "outputs": [],
   "source": [
    "import requests\n",
    "import pandas as pd\n",
    "import pyodbc \n",
    "from datetime import date\n",
    "import time\n",
    "import uuid"
   ]
  },
  {
   "cell_type": "code",
   "execution_count": 3,
   "metadata": {},
   "outputs": [
    {
     "data": {
      "text/plain": [
       "{'co2factor': 6571910.0,\n",
       " 'created_at': 'May 22 2022 15:00:00',\n",
       " 'day_energy': 45131.0,\n",
       " 'id': 16086,\n",
       " 'pac_sum': 6840.0,\n",
       " 'pac_sum_counter': 0,\n",
       " 'pac_sum_temp': 0.0,\n",
       " 'power_counter': 1,\n",
       " 'power_real': 39.7958,\n",
       " 'power_real_temp': 53.3646,\n",
       " 'reference': 'comfenalco1',\n",
       " 'total_energy': 39980000.0,\n",
       " 'update_at': 'May 22 2022 15:40:23'}"
      ]
     },
     "execution_count": 3,
     "metadata": {},
     "output_type": "execute_result"
    }
   ],
   "source": [
    "url = 'https://data.exia.com.co/demo/data/last'\n",
    "response = requests.get(url).json()\n",
    "response"
   ]
  },
  {
   "cell_type": "code",
   "execution_count": 7,
   "metadata": {},
   "outputs": [],
   "source": [
    "today = str(date.today())\n",
    "def colecting_data(df):\n",
    "    url = 'https://data.exia.com.co/demo/data/last'\n",
    "    try:\n",
    "        response = requests.get(url).json()\n",
    "        time.sleep(1)\n",
    "    except Exception as e:\n",
    "        print(404)\n",
    "    else:\n",
    "        print(200)\n",
    "    \n",
    "    data_id = str(uuid.uuid1(clock_seq=3))\n",
    "    co2factor = response[\"co2factor\"]\n",
    "    createddata = response[\"created_at\"].split(\" \")\n",
    "    created_at = \"{}\".format(today)\n",
    "    created_at_time = createddata[3] \n",
    "    day_energy = response[\"day_energy\"]\n",
    "    id = response[\"id\"]\n",
    "    pac_sum = response[\"pac_sum\"]\n",
    "    pac_sum_counter = response[\"pac_sum_counter\"]\n",
    "    pac_sum_temp = response[\"pac_sum_temp\"]\n",
    "    power_counter = response[\"power_counter\"]\n",
    "    power_real = response[\"power_real\"]\n",
    "    power_real_temp = response[\"power_real_temp\"]\n",
    "    reference = response[\"reference\"]\n",
    "    total_energy = response[\"total_energy\"]\n",
    "    updatedata = response[\"update_at\"].split(\" \")\n",
    "    update_at = \"{}\".format(today)\n",
    "    update_at_time = updatedata[3]\n",
    "\n",
    "    df = df.append({\"data_id\":data_id,\"co2factor\": co2factor,\"created_at\" : created_at,\"created_at_time\":created_at_time,\"day_energy\" : day_energy,\n",
    "    \"id\" : id,\"pac_sum\" : pac_sum,\"pac_sum_counter\" : pac_sum_counter,\"pac_sum_temp\": pac_sum_temp,\n",
    "    \"power_counter\": power_counter,\"power_real\": power_real,\"power_real_temp\": power_real_temp,\"reference\": reference,\n",
    "    \"total_energy\":total_energy,\"update_at\": update_at, \"update_at_time\":update_at_time}, ignore_index = True)\n",
    "\n",
    "    return df\n",
    "    \n",
    "\n",
    "       "
   ]
  },
  {
   "cell_type": "code",
   "execution_count": 5,
   "metadata": {},
   "outputs": [],
   "source": [
    "df = pd.DataFrame(columns=[\n",
    "    'data_id',\n",
    "    'co2factor',\n",
    "    'created_at',\n",
    "    \"created_at_time\",\n",
    "    'day_energy',\n",
    "    'id',\n",
    "    'pac_sum',\n",
    "    'pac_sum_counter',\n",
    "    'pac_sum_temp',\n",
    "    'power_counter',\n",
    "    'power_real',\n",
    "    'power_real_temp',\n",
    "    'reference',\n",
    "    'total_energy',\n",
    "    'update_at',\n",
    "    'update_at_time'\n",
    "    ])"
   ]
  },
  {
   "cell_type": "code",
   "execution_count": 8,
   "metadata": {},
   "outputs": [
    {
     "name": "stdout",
     "output_type": "stream",
     "text": [
      "200\n"
     ]
    },
    {
     "name": "stderr",
     "output_type": "stream",
     "text": [
      "C:\\Users\\Alberto\\AppData\\Local\\Temp\\ipykernel_12064\\2721878795.py:31: FutureWarning: The frame.append method is deprecated and will be removed from pandas in a future version. Use pandas.concat instead.\n",
      "  df = df.append({\"data_id\":data_id,\"co2factor\": co2factor,\"created_at\" : created_at,\"created_at_time\":created_at_time,\"day_energy\" : day_energy,\n"
     ]
    }
   ],
   "source": [
    "df = colecting_data(df)"
   ]
  },
  {
   "cell_type": "code",
   "execution_count": 9,
   "metadata": {},
   "outputs": [
    {
     "data": {
      "text/html": [
       "<div>\n",
       "<style scoped>\n",
       "    .dataframe tbody tr th:only-of-type {\n",
       "        vertical-align: middle;\n",
       "    }\n",
       "\n",
       "    .dataframe tbody tr th {\n",
       "        vertical-align: top;\n",
       "    }\n",
       "\n",
       "    .dataframe thead th {\n",
       "        text-align: right;\n",
       "    }\n",
       "</style>\n",
       "<table border=\"1\" class=\"dataframe\">\n",
       "  <thead>\n",
       "    <tr style=\"text-align: right;\">\n",
       "      <th></th>\n",
       "      <th>data_id</th>\n",
       "      <th>co2factor</th>\n",
       "      <th>created_at</th>\n",
       "      <th>created_at_time</th>\n",
       "      <th>day_energy</th>\n",
       "      <th>id</th>\n",
       "      <th>pac_sum</th>\n",
       "      <th>pac_sum_counter</th>\n",
       "      <th>pac_sum_temp</th>\n",
       "      <th>power_counter</th>\n",
       "      <th>power_real</th>\n",
       "      <th>power_real_temp</th>\n",
       "      <th>reference</th>\n",
       "      <th>total_energy</th>\n",
       "      <th>update_at</th>\n",
       "      <th>update_at_time</th>\n",
       "    </tr>\n",
       "  </thead>\n",
       "  <tbody>\n",
       "    <tr>\n",
       "      <th>0</th>\n",
       "      <td>93634fb1-da0f-11ec-8003-544810b21542</td>\n",
       "      <td>6571930.0</td>\n",
       "      <td>2022-05-22</td>\n",
       "      <td>15:00:00</td>\n",
       "      <td>45259.0</td>\n",
       "      <td>16086</td>\n",
       "      <td>6888.0</td>\n",
       "      <td>0</td>\n",
       "      <td>0.0</td>\n",
       "      <td>1</td>\n",
       "      <td>19.6832</td>\n",
       "      <td>53.3646</td>\n",
       "      <td>comfenalco1</td>\n",
       "      <td>39980100.0</td>\n",
       "      <td>2022-05-22</td>\n",
       "      <td>15:41:32</td>\n",
       "    </tr>\n",
       "  </tbody>\n",
       "</table>\n",
       "</div>"
      ],
      "text/plain": [
       "                                data_id  co2factor  created_at  \\\n",
       "0  93634fb1-da0f-11ec-8003-544810b21542  6571930.0  2022-05-22   \n",
       "\n",
       "  created_at_time day_energy     id pac_sum pac_sum_counter pac_sum_temp  \\\n",
       "0        15:00:00    45259.0  16086  6888.0               0          0.0   \n",
       "\n",
       "  power_counter power_real power_real_temp    reference total_energy  \\\n",
       "0             1    19.6832         53.3646  comfenalco1   39980100.0   \n",
       "\n",
       "    update_at update_at_time  \n",
       "0  2022-05-22       15:41:32  "
      ]
     },
     "execution_count": 9,
     "metadata": {},
     "output_type": "execute_result"
    }
   ],
   "source": [
    "df.head()"
   ]
  },
  {
   "cell_type": "code",
   "execution_count": 11,
   "metadata": {},
   "outputs": [
    {
     "name": "stdout",
     "output_type": "stream",
     "text": [
      "\n",
      "\n",
      "\n",
      "conexión exitosa <mysql.connector.connection_cext.CMySQLConnection object at 0x000001E190F371F0>\n"
     ]
    }
   ],
   "source": [
    "#opening azure database\n",
    "import mysql.connector as conn\n",
    "try:\n",
    "    db = conn.connect(\n",
    "        user=\"casab001\", \n",
    "        password=\"CA765@19\", \n",
    "        host=\"casab.mysql.database.azure.com\", \n",
    "        port=3306, \n",
    "        database=\"casabapidata\"\n",
    "    )  \n",
    "    print(\"\\n\"*2)\n",
    "    print(\"conexión exitosa\", db)\n",
    "    \n",
    "except Exception as e:\n",
    "    print(\"Ocurrió un error al conectar a SQL Server: \", e)\n"
   ]
  },
  {
   "cell_type": "code",
   "execution_count": 14,
   "metadata": {},
   "outputs": [],
   "source": [
    "def create_table(curr):\n",
    "    create_table_command = (\"\"\"CREATE TABLE IF NOT EXISTS lastdata (\n",
    "        data_id VARCHAR(255) PRIMARY KEY,\n",
    "        co2factor FLOAT NOT NULL,\n",
    "        created_at_date DATE NOT NULL,\n",
    "        created_at_time TIME NOT NULL,\n",
    "        day_energy FLOAT NOT NULL,\n",
    "        id INTEGER NOT NULL,\n",
    "        pac_sum FLOAT NOT NULL,\n",
    "        pac_sum_counter INTEGER NOT NULL,\n",
    "        pac_sum_temp FLOAT NOT NULL,\n",
    "        power_counter INTEGER NOT NULL,\t\n",
    "        power_real FLOAT NOT NULL,\t\n",
    "        power_real_temp FLOAT NOT NULL,\t\n",
    "        reference VARCHAR(255) NOT NULL,\t\n",
    "        total_energy FLOAT NOT NULL,\n",
    "        update_at_date DATE NOT NULL,\n",
    "        update_at_time TIME NOT NULL\n",
    "    )\"\"\")\n",
    "    curr.execute(create_table_command)"
   ]
  },
  {
   "cell_type": "code",
   "execution_count": 12,
   "metadata": {},
   "outputs": [],
   "source": [
    "cursor = db.cursor()"
   ]
  },
  {
   "cell_type": "code",
   "execution_count": 15,
   "metadata": {},
   "outputs": [],
   "source": [
    "create_table(cursor)\n",
    "db.commit()"
   ]
  },
  {
   "cell_type": "code",
   "execution_count": 93,
   "metadata": {},
   "outputs": [
    {
     "data": {
      "text/plain": [
       "['b49fb285-d9f8-11ec-8003-544810b21542',\n",
       " '1dc8f235-d9f9-11ec-8003-544810b21542',\n",
       " '1f86f6d4-d9f9-11ec-8003-544810b21542']"
      ]
     },
     "execution_count": 93,
     "metadata": {},
     "output_type": "execute_result"
    }
   ],
   "source": [
    "#populating the database\n",
    "insert_into_lastdata = (\"\"\"INSERT INTO lastdata (data_id,co2factor,created_at,day_energy,id,pac_sum,pac_sum_counter,pac_sum_temp,power_counter,power_real,power_real_temp,reference,total_energy,update_at)\n",
    "VALUES (%s,%s,%s,%s,%s,%s,%s,%s,%s,%s,%s,%s,%s,%s);\"\"\")\n",
    "#row_to_insert = (,co2factor,created_at,day_energy,id,pac_sum,pac_sum_counter,pac_sum_temp,power_counter,power_real,power_real_temp,reference,total_energy,update_at)\n",
    "df.data_id.to_list()\n"
   ]
  }
 ],
 "metadata": {
  "interpreter": {
   "hash": "e43464131c931da19dcddf4ed057bc086793babf21581c813ace49957d2d83ae"
  },
  "kernelspec": {
   "display_name": "Python 3.8.13 ('casab-api-manage')",
   "language": "python",
   "name": "python3"
  },
  "language_info": {
   "codemirror_mode": {
    "name": "ipython",
    "version": 3
   },
   "file_extension": ".py",
   "mimetype": "text/x-python",
   "name": "python",
   "nbconvert_exporter": "python",
   "pygments_lexer": "ipython3",
   "version": "3.8.13"
  },
  "orig_nbformat": 4
 },
 "nbformat": 4,
 "nbformat_minor": 2
}
